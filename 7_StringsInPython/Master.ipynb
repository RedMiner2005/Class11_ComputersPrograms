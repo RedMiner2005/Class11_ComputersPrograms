{
 "cells": [
  {
   "cell_type": "code",
   "execution_count": 4,
   "metadata": {},
   "outputs": [
    {
     "name": "stdout",
     "output_type": "stream",
     "text": [
      "12\n"
     ]
    },
    {
     "data": {
      "text/plain": [
       "19"
      ]
     },
     "execution_count": 4,
     "metadata": {},
     "output_type": "execute_result"
    }
   ],
   "source": [
    "word = \"Good morning\"\n",
    "print(len(word))\n",
    "\n",
    "str1 = 'This is Meera\\'s pen'\n",
    "len(str1)"
   ]
  },
  {
   "cell_type": "code",
   "execution_count": 1,
   "metadata": {},
   "outputs": [
    {
     "name": "stdout",
     "output_type": "stream",
     "text": [
      "Welcome\n",
      "Welcome\n"
     ]
    }
   ],
   "source": [
    "str1 = \"welcome\"\n",
    "print(str1.capitalize())\n",
    "\n",
    "str1 = \"WeLcOme\"\n",
    "print(str1.capitalize())"
   ]
  },
  {
   "cell_type": "code",
   "execution_count": 3,
   "metadata": {},
   "outputs": [
    {
     "name": "stdout",
     "output_type": "stream",
     "text": [
      "['blue', 'red', 'green']\n",
      "['Love', 'your', 'country']\n",
      "['Red', 'Blue', 'Orange:Pink']\n",
      "['Red', 'Blue:Orange:Pink']\n",
      "['Red', 'Blue', 'Orange', 'Pink']\n",
      "['Red:Blue:Orange:Pink']\n"
     ]
    }
   ],
   "source": [
    "x = 'blue;red;green'\n",
    "print(x.split(\";\"))\n",
    "\n",
    "text = \"Love your country\"\n",
    "print(text.split())\n",
    "\n",
    "\n",
    "grocery = \"Red:Blue:Orange:Pink\"\n",
    "print(grocery.split(\":\", 2))\n",
    "print(grocery.split(\":\", 1))     # maxsplit is 1\n",
    "print(grocery.split(\":\", 5))\n",
    "print(grocery.split(\":\", 0))     # maxsplit is 0, so it will return the string (default = -1)"
   ]
  },
  {
   "cell_type": "code",
   "execution_count": null,
   "metadata": {},
   "outputs": [],
   "source": []
  }
 ],
 "metadata": {
  "interpreter": {
   "hash": "6639c90d5cb740144966bf062d7c9318a352309c956615f9b4da5c2aadcf5d5d"
  },
  "kernelspec": {
   "display_name": "Python 3.10.0 64-bit",
   "name": "python3"
  },
  "language_info": {
   "codemirror_mode": {
    "name": "ipython",
    "version": 3
   },
   "file_extension": ".py",
   "mimetype": "text/x-python",
   "name": "python",
   "nbconvert_exporter": "python",
   "pygments_lexer": "ipython3",
   "version": "3.10.0"
  },
  "orig_nbformat": 4
 },
 "nbformat": 4,
 "nbformat_minor": 2
}
